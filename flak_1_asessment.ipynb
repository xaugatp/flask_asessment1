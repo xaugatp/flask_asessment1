{
 "cells": [
  {
   "cell_type": "code",
   "execution_count": 1,
   "metadata": {},
   "outputs": [],
   "source": [
    "#Q1. What is Flask Framework? What are the advantages of Flask Framework?"
   ]
  },
  {
   "cell_type": "code",
   "execution_count": 10,
   "metadata": {},
   "outputs": [
    {
     "data": {
      "text/plain": [
       "' \\n\\nFlask Framework:\\nFlask is a lightweight and flexible web framework for Python. It is designed to be simple and easy to use, providing developers with the essentials needed to build web applications. Flask follows the WSGI (Web Server Gateway Interface) specification and is often categorized as a micro-framework because it keeps the core simple while allowing for easy extension through various third-party extensions. Flask is widely used for developing web applications, RESTful APIs, and other web-related projects.\\n\\nAdvantages of Flask Framework:\\n\\nLightweight and Simple:\\n\\nFlask is minimalist and lightweight, providing only the essential components needed for web development. This simplicity makes it easy to learn and quick to set up.\\nFlexibility:\\n\\nFlask is designed to be flexible, allowing developers to choose their preferred components and libraries for various tasks such as database integration, authentication, and form handling.\\nExtensibility:\\n\\nFlask follows a modular design and encourages the use of extensions. Developers can choose and integrate extensions based on their specific project requirements.\\nJinja2 Templating:\\n\\nFlask uses the Jinja2 templating engine, which provides a powerful and expressive way to embed dynamic content into HTML templates. It enhances code readability and maintainability.\\nBuilt-in Development Server:\\n\\nFlask comes with a built-in development server, making it easy to test and debug applications during the development process without the need for external servers.\\nRESTful Capabilities:\\n\\nFlask provides support for building RESTful APIs, making it a popular choice for developing backend services and microservices.\\nWidely Adopted:\\n\\nFlask has a large and active community, which means extensive documentation, tutorials, and third-party extensions are available. Developers can find solutions to common problems and share knowledge within the community.\\nScalability:\\n\\nWhile Flask is suitable for small to medium-sized applications, it can be scaled up by integrating with other tools and libraries when needed. It is often used in combination with tools like Celery for task queuing and scaling.\\nEase of Integration:\\n\\nFlask easily integrates with various ORMs (Object-Relational Mapping) such as SQLAlchemy for database management, making it convenient for developers familiar with these tools.\\nCompatibility with Python Libraries:\\n\\nFlask is compatible with a wide range of Python libraries and tools, allowing developers to leverage the Python ecosystem for different functionalities.\\nOpen Source and Active Development:\\n\\nBeing open-source, Flask is continuously updated and improved by its community and the core development team, ensuring it stays current with best practices and the evolving needs of web development.\\n'"
      ]
     },
     "execution_count": 10,
     "metadata": {},
     "output_type": "execute_result"
    }
   ],
   "source": [
    "''' \n",
    "\n",
    "Flask Framework:\n",
    "Flask is a lightweight and flexible web framework for Python. It is designed to be simple and easy to use, providing developers with the essentials needed to build web applications. Flask follows the WSGI (Web Server Gateway Interface) specification and is often categorized as a micro-framework because it keeps the core simple while allowing for easy extension through various third-party extensions. Flask is widely used for developing web applications, RESTful APIs, and other web-related projects.\n",
    "\n",
    "Advantages of Flask Framework:\n",
    "\n",
    "Lightweight and Simple:\n",
    "\n",
    "Flask is minimalist and lightweight, providing only the essential components needed for web development. This simplicity makes it easy to learn and quick to set up.\n",
    "Flexibility:\n",
    "\n",
    "Flask is designed to be flexible, allowing developers to choose their preferred components and libraries for various tasks such as database integration, authentication, and form handling.\n",
    "Extensibility:\n",
    "\n",
    "Flask follows a modular design and encourages the use of extensions. Developers can choose and integrate extensions based on their specific project requirements.\n",
    "Jinja2 Templating:\n",
    "\n",
    "Flask uses the Jinja2 templating engine, which provides a powerful and expressive way to embed dynamic content into HTML templates. It enhances code readability and maintainability.\n",
    "Built-in Development Server:\n",
    "\n",
    "Flask comes with a built-in development server, making it easy to test and debug applications during the development process without the need for external servers.\n",
    "RESTful Capabilities:\n",
    "\n",
    "Flask provides support for building RESTful APIs, making it a popular choice for developing backend services and microservices.\n",
    "Widely Adopted:\n",
    "\n",
    "Flask has a large and active community, which means extensive documentation, tutorials, and third-party extensions are available. Developers can find solutions to common problems and share knowledge within the community.\n",
    "Scalability:\n",
    "\n",
    "While Flask is suitable for small to medium-sized applications, it can be scaled up by integrating with other tools and libraries when needed. It is often used in combination with tools like Celery for task queuing and scaling.\n",
    "Ease of Integration:\n",
    "\n",
    "Flask easily integrates with various ORMs (Object-Relational Mapping) such as SQLAlchemy for database management, making it convenient for developers familiar with these tools.\n",
    "Compatibility with Python Libraries:\n",
    "\n",
    "Flask is compatible with a wide range of Python libraries and tools, allowing developers to leverage the Python ecosystem for different functionalities.\n",
    "Open Source and Active Development:\n",
    "\n",
    "Being open-source, Flask is continuously updated and improved by its community and the core development team, ensuring it stays current with best practices and the evolving needs of web development.\n",
    "'''"
   ]
  },
  {
   "cell_type": "code",
   "execution_count": 11,
   "metadata": {},
   "outputs": [
    {
     "data": {
      "text/plain": [
       "'   \\nQ2. Create a simple Flask application to display ‘Hello World!!’. Attach the screenshot of the output in\\nJupyter Notebook.\\n'"
      ]
     },
     "execution_count": 11,
     "metadata": {},
     "output_type": "execute_result"
    }
   ],
   "source": [
    "'''   \n",
    "Q2. Create a simple Flask application to display ‘Hello World!!’. Attach the screenshot of the output in\n",
    "Jupyter Notebook.\n",
    "'''"
   ]
  },
  {
   "cell_type": "code",
   "execution_count": 2,
   "metadata": {},
   "outputs": [
    {
     "name": "stdout",
     "output_type": "stream",
     "text": [
      " * Serving Flask app '__main__'\n",
      " * Debug mode: off\n"
     ]
    },
    {
     "name": "stderr",
     "output_type": "stream",
     "text": [
      "WARNING: This is a development server. Do not use it in a production deployment. Use a production WSGI server instead.\n",
      " * Running on http://127.0.0.1:5000\n",
      "Press CTRL+C to quit\n",
      "127.0.0.1 - - [18/Dec/2023 00:19:27] \"GET / HTTP/1.1\" 200 -\n",
      "127.0.0.1 - - [18/Dec/2023 00:19:27] \"GET /favicon.ico HTTP/1.1\" 404 -\n",
      "127.0.0.1 - - [18/Dec/2023 00:19:53] \"GET / HTTP/1.1\" 200 -\n"
     ]
    }
   ],
   "source": [
    "from flask import Flask\n",
    "app = Flask(__name__)\n",
    "\n",
    "@app.route('/')\n",
    "def hello_world():\n",
    "    return 'Hello World'\n",
    "\n",
    "if __name__ == \"__main__\":\n",
    "    app.run()\n"
   ]
  },
  {
   "cell_type": "code",
   "execution_count": 12,
   "metadata": {},
   "outputs": [],
   "source": [
    "#Q3. What is App routing in Flask? Why do we use app routes?"
   ]
  },
  {
   "cell_type": "code",
   "execution_count": 13,
   "metadata": {},
   "outputs": [
    {
     "data": {
      "text/plain": [
       "\"   \\n\\nApp Routing in Flask:\\n\\nIn Flask, app routing refers to the mechanism of associating URL patterns with view functions. A route in Flask is a URL pattern mapped to a specific function that should be executed when the client (usually a web browser) navigates to that URL. The route is defined using the @app.route() decorator.\\n\\n\\nWhy Do We Use App Routes in Flask?\\n\\nURL Mapping: App routes allow developers to map specific URLs to corresponding functions in the application. This helps define the structure and behavior of the web application.\\n\\nView Functions: Each route is associated with a view function. View functions are responsible for generating a response (e.g., rendering HTML, returning JSON) when a particular URL is accessed.\\n\\nModularity: Routes contribute to the modularity of the application. Different sections of the application can be handled by separate view functions, making the codebase organized and maintainable.\\n\\nDynamic URLs: Flask supports dynamic URLs by allowing route parameters. For example, @app.route('/user/<username>') defines a route with a dynamic parameter, and the corresponding view function can access the value of username from the URL.\\n\\nRESTful APIs: When building RESTful APIs, routes play a crucial role in defining endpoints for different resources (e.g., GET /users, POST /create, etc.).\\n\\nClean Code Structure: App routes contribute to a clean and understandable code structure. Developers can easily identify which functions are associated with specific URLs, making the codebase more readable.\\n\\nSeparation of Concerns: Routes help in separating concerns in the application. Different routes can handle different aspects of the application logic, such as user authentication, data retrieval, and rendering templates.\\n\\nURL Generation: Flask provides the url_for function, which can generate URLs for a given route and view function. This makes it easier to create links in templates without hardcoding URLs.\\n\\n\""
      ]
     },
     "execution_count": 13,
     "metadata": {},
     "output_type": "execute_result"
    }
   ],
   "source": [
    "'''   \n",
    "\n",
    "App Routing in Flask:\n",
    "\n",
    "In Flask, app routing refers to the mechanism of associating URL patterns with view functions. A route in Flask is a URL pattern mapped to a specific function that should be executed when the client (usually a web browser) navigates to that URL. The route is defined using the @app.route() decorator.\n",
    "\n",
    "\n",
    "Why Do We Use App Routes in Flask?\n",
    "\n",
    "URL Mapping: App routes allow developers to map specific URLs to corresponding functions in the application. This helps define the structure and behavior of the web application.\n",
    "\n",
    "View Functions: Each route is associated with a view function. View functions are responsible for generating a response (e.g., rendering HTML, returning JSON) when a particular URL is accessed.\n",
    "\n",
    "Modularity: Routes contribute to the modularity of the application. Different sections of the application can be handled by separate view functions, making the codebase organized and maintainable.\n",
    "\n",
    "Dynamic URLs: Flask supports dynamic URLs by allowing route parameters. For example, @app.route('/user/<username>') defines a route with a dynamic parameter, and the corresponding view function can access the value of username from the URL.\n",
    "\n",
    "RESTful APIs: When building RESTful APIs, routes play a crucial role in defining endpoints for different resources (e.g., GET /users, POST /create, etc.).\n",
    "\n",
    "Clean Code Structure: App routes contribute to a clean and understandable code structure. Developers can easily identify which functions are associated with specific URLs, making the codebase more readable.\n",
    "\n",
    "Separation of Concerns: Routes help in separating concerns in the application. Different routes can handle different aspects of the application logic, such as user authentication, data retrieval, and rendering templates.\n",
    "\n",
    "URL Generation: Flask provides the url_for function, which can generate URLs for a given route and view function. This makes it easier to create links in templates without hardcoding URLs.\n",
    "\n",
    "'''"
   ]
  },
  {
   "cell_type": "code",
   "execution_count": 3,
   "metadata": {},
   "outputs": [
    {
     "data": {
      "text/plain": [
       "'Q4. Create a “/welcome” route to display the welcome message “Welcome to ABC Corporation” and a “/”\\nroute to show the following details:\\nCompany Name: ABC Corporation\\nLocation: India\\nContact Detail: 999-999-9999'"
      ]
     },
     "execution_count": 3,
     "metadata": {},
     "output_type": "execute_result"
    }
   ],
   "source": [
    "'''Q4. Create a “/welcome” route to display the welcome message “Welcome to ABC Corporation” and a “/”\n",
    "route to show the following details:\n",
    "Company Name: ABC Corporation\n",
    "Location: India\n",
    "Contact Detail: 999-999-9999'''"
   ]
  },
  {
   "cell_type": "code",
   "execution_count": 9,
   "metadata": {},
   "outputs": [
    {
     "name": "stdout",
     "output_type": "stream",
     "text": [
      " * Serving Flask app '__main__'\n",
      " * Debug mode: off\n"
     ]
    },
    {
     "name": "stderr",
     "output_type": "stream",
     "text": [
      "WARNING: This is a development server. Do not use it in a production deployment. Use a production WSGI server instead.\n",
      " * Running on http://127.0.0.1:5000\n",
      "Press CTRL+C to quit\n",
      "127.0.0.1 - - [18/Dec/2023 00:35:07] \"GET / HTTP/1.1\" 200 -\n",
      "127.0.0.1 - - [18/Dec/2023 00:35:20] \"GET /detials HTTP/1.1\" 200 -\n"
     ]
    }
   ],
   "source": [
    "from flask import Flask\n",
    "app = Flask(__name__)\n",
    "\n",
    "@app.route('/')\n",
    "def welcome():\n",
    "    return 'Welcome to ABC Corporation'\n",
    "    \n",
    "    \n",
    "@app.route('/detials')\n",
    "def detials():\n",
    "    return 'Company Name: ABC Corporation''Location:India\\n''Contact Detail: 999-999-9999'\n",
    "\n",
    "if __name__ == \"__main__\":\n",
    "    app.run()"
   ]
  },
  {
   "cell_type": "markdown",
   "metadata": {},
   "source": []
  },
  {
   "cell_type": "code",
   "execution_count": 14,
   "metadata": {},
   "outputs": [
    {
     "data": {
      "text/plain": [
       "'Q5. What function is used in Flask for URL Building? Write a Python code to demonstrate the working of the\\nurl_for() function.'"
      ]
     },
     "execution_count": 14,
     "metadata": {},
     "output_type": "execute_result"
    }
   ],
   "source": [
    "'''Q5. What function is used in Flask for URL Building? Write a Python code to demonstrate the working of the\n",
    "url_for() function.'''"
   ]
  },
  {
   "cell_type": "code",
   "execution_count": 16,
   "metadata": {},
   "outputs": [
    {
     "data": {
      "text/plain": [
       "'In Flask, the url_for function is used for URL building. It generates a URL for a specified endpoint (view function) by dynamically creating the URL based on the provided endpoint and any associated parameters. This is particularly useful in templates or in scenarios where you want to avoid hardcoding URLs.'"
      ]
     },
     "execution_count": 16,
     "metadata": {},
     "output_type": "execute_result"
    }
   ],
   "source": [
    "'''In Flask, the url_for function is used for URL building. It generates a URL for a specified endpoint (view function) by dynamically creating the URL based on the provided endpoint and any associated parameters. This is particularly useful in templates or in scenarios where you want to avoid hardcoding URLs.'''"
   ]
  },
  {
   "cell_type": "code",
   "execution_count": 19,
   "metadata": {},
   "outputs": [
    {
     "data": {
      "text/plain": [
       "\"from flask import Flask, render_template, url_for\\n\\napp = Flask(__name__)\\n\\n# Route for the home page\\n@app.route('/')\\ndef home():\\n    return 'Welcome to the Home Page'\\n\\n# Route for a sample profile page with a dynamic parameter\\n@app.route('/profile/<username>')\\ndef profile(username):\\n    return f'Profile Page of {username}'\\n\\nif __name__ == '__main__':\\n    app.run(debug=True)\\n\\n\\n\\n\""
      ]
     },
     "execution_count": 19,
     "metadata": {},
     "output_type": "execute_result"
    }
   ],
   "source": [
    "'''from flask import Flask, render_template, url_for\n",
    "\n",
    "app = Flask(__name__)\n",
    "\n",
    "# Route for the home page\n",
    "@app.route('/')\n",
    "def home():\n",
    "    return 'Welcome to the Home Page'\n",
    "\n",
    "# Route for a sample profile page with a dynamic parameter\n",
    "@app.route('/profile/<username>')\n",
    "def profile(username):\n",
    "    return f'Profile Page of {username}'\n",
    "\n",
    "if __name__ == '__main__':\n",
    "    app.run(debug=True)\n",
    "\n",
    "\n",
    "\n",
    "'''"
   ]
  },
  {
   "cell_type": "code",
   "execution_count": 20,
   "metadata": {},
   "outputs": [
    {
     "data": {
      "text/plain": [
       "'<!DOCTYPE html>\\n<html lang=\"en\">\\n<head>\\n    <meta charset=\"UTF-8\">\\n    <meta name=\"viewport\" content=\"width=device-width, initial-scale=1.0\">\\n    <title>URL Building Example</title>\\n</head>\\n<body>\\n    <h1>URL Building Example</h1>\\n    <p>Home Page: <a href=\"{{ url_for(\\'home\\') }}\">Go to Home</a></p>\\n    <p>Profile Page: <a href=\"{{ url_for(\\'profile\\', username=\\'john_doe\\') }}\">Go to John\\'s Profile</a></p>\\n</body>\\n</html>\\n'"
      ]
     },
     "execution_count": 20,
     "metadata": {},
     "output_type": "execute_result"
    }
   ],
   "source": [
    "'''<!DOCTYPE html>\n",
    "<html lang=\"en\">\n",
    "<head>\n",
    "    <meta charset=\"UTF-8\">\n",
    "    <meta name=\"viewport\" content=\"width=device-width, initial-scale=1.0\">\n",
    "    <title>URL Building Example</title>\n",
    "</head>\n",
    "<body>\n",
    "    <h1>URL Building Example</h1>\n",
    "    <p>Home Page: <a href=\"{{ url_for('home') }}\">Go to Home</a></p>\n",
    "    <p>Profile Page: <a href=\"{{ url_for('profile', username='john_doe') }}\">Go to John's Profile</a></p>\n",
    "</body>\n",
    "</html>\n",
    "'''"
   ]
  },
  {
   "cell_type": "code",
   "execution_count": null,
   "metadata": {},
   "outputs": [],
   "source": []
  }
 ],
 "metadata": {
  "kernelspec": {
   "display_name": "Python 3",
   "language": "python",
   "name": "python3"
  },
  "language_info": {
   "codemirror_mode": {
    "name": "ipython",
    "version": 3
   },
   "file_extension": ".py",
   "mimetype": "text/x-python",
   "name": "python",
   "nbconvert_exporter": "python",
   "pygments_lexer": "ipython3",
   "version": "3.11.7"
  }
 },
 "nbformat": 4,
 "nbformat_minor": 2
}
